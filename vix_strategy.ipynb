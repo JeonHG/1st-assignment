{
  "nbformat": 4,
  "nbformat_minor": 0,
  "metadata": {
    "colab": {
      "provenance": [],
      "authorship_tag": "ABX9TyOE4iWuemiTASIMcHs40Cjy",
      "include_colab_link": true
    },
    "kernelspec": {
      "name": "python3",
      "display_name": "Python 3"
    },
    "language_info": {
      "name": "python"
    }
  },
  "cells": [
    {
      "cell_type": "markdown",
      "metadata": {
        "id": "view-in-github",
        "colab_type": "text"
      },
      "source": [
        "<a href=\"https://colab.research.google.com/github/JeonHG/1st-assignment/blob/master/vix_strategy.ipynb\" target=\"_parent\"><img src=\"https://colab.research.google.com/assets/colab-badge.svg\" alt=\"Open In Colab\"/></a>"
      ]
    },
    {
      "cell_type": "code",
      "source": [
        "from google.colab import drive\n",
        "drive.mount('/content/drive')"
      ],
      "metadata": {
        "colab": {
          "base_uri": "https://localhost:8080/"
        },
        "id": "lA9OpM4nmPHj",
        "outputId": "81f78bb5-91d5-4545-fdda-b93ed501f481"
      },
      "execution_count": 22,
      "outputs": [
        {
          "output_type": "stream",
          "name": "stdout",
          "text": [
            "Mounted at /content/drive\n"
          ]
        }
      ]
    },
    {
      "cell_type": "code",
      "source": [
        "!pip install yfinance"
      ],
      "metadata": {
        "colab": {
          "base_uri": "https://localhost:8080/"
        },
        "id": "SWAeCZYCQl9N",
        "outputId": "587d8642-a004-470c-a86d-2895957847c1"
      },
      "execution_count": 1,
      "outputs": [
        {
          "output_type": "stream",
          "name": "stdout",
          "text": [
            "Looking in indexes: https://pypi.org/simple, https://us-python.pkg.dev/colab-wheels/public/simple/\n",
            "Requirement already satisfied: yfinance in /usr/local/lib/python3.9/dist-packages (0.2.14)\n",
            "Requirement already satisfied: appdirs>=1.4.4 in /usr/local/lib/python3.9/dist-packages (from yfinance) (1.4.4)\n",
            "Requirement already satisfied: beautifulsoup4>=4.11.1 in /usr/local/lib/python3.9/dist-packages (from yfinance) (4.11.2)\n",
            "Requirement already satisfied: lxml>=4.9.1 in /usr/local/lib/python3.9/dist-packages (from yfinance) (4.9.2)\n",
            "Requirement already satisfied: requests>=2.26 in /usr/local/lib/python3.9/dist-packages (from yfinance) (2.27.1)\n",
            "Requirement already satisfied: html5lib>=1.1 in /usr/local/lib/python3.9/dist-packages (from yfinance) (1.1)\n",
            "Requirement already satisfied: frozendict>=2.3.4 in /usr/local/lib/python3.9/dist-packages (from yfinance) (2.3.6)\n",
            "Requirement already satisfied: pandas>=1.3.0 in /usr/local/lib/python3.9/dist-packages (from yfinance) (1.4.4)\n",
            "Requirement already satisfied: pytz>=2022.5 in /usr/local/lib/python3.9/dist-packages (from yfinance) (2022.7.1)\n",
            "Requirement already satisfied: cryptography>=3.3.2 in /usr/local/lib/python3.9/dist-packages (from yfinance) (40.0.1)\n",
            "Requirement already satisfied: multitasking>=0.0.7 in /usr/local/lib/python3.9/dist-packages (from yfinance) (0.0.11)\n",
            "Requirement already satisfied: numpy>=1.16.5 in /usr/local/lib/python3.9/dist-packages (from yfinance) (1.22.4)\n",
            "Requirement already satisfied: soupsieve>1.2 in /usr/local/lib/python3.9/dist-packages (from beautifulsoup4>=4.11.1->yfinance) (2.4)\n",
            "Requirement already satisfied: cffi>=1.12 in /usr/local/lib/python3.9/dist-packages (from cryptography>=3.3.2->yfinance) (1.15.1)\n",
            "Requirement already satisfied: webencodings in /usr/local/lib/python3.9/dist-packages (from html5lib>=1.1->yfinance) (0.5.1)\n",
            "Requirement already satisfied: six>=1.9 in /usr/local/lib/python3.9/dist-packages (from html5lib>=1.1->yfinance) (1.16.0)\n",
            "Requirement already satisfied: python-dateutil>=2.8.1 in /usr/local/lib/python3.9/dist-packages (from pandas>=1.3.0->yfinance) (2.8.2)\n",
            "Requirement already satisfied: idna<4,>=2.5 in /usr/local/lib/python3.9/dist-packages (from requests>=2.26->yfinance) (3.4)\n",
            "Requirement already satisfied: certifi>=2017.4.17 in /usr/local/lib/python3.9/dist-packages (from requests>=2.26->yfinance) (2022.12.7)\n",
            "Requirement already satisfied: charset-normalizer~=2.0.0 in /usr/local/lib/python3.9/dist-packages (from requests>=2.26->yfinance) (2.0.12)\n",
            "Requirement already satisfied: urllib3<1.27,>=1.21.1 in /usr/local/lib/python3.9/dist-packages (from requests>=2.26->yfinance) (1.26.15)\n",
            "Requirement already satisfied: pycparser in /usr/local/lib/python3.9/dist-packages (from cffi>=1.12->cryptography>=3.3.2->yfinance) (2.21)\n"
          ]
        }
      ]
    },
    {
      "cell_type": "code",
      "execution_count": 111,
      "metadata": {
        "id": "z8xCP3a_G-hw"
      },
      "outputs": [],
      "source": [
        "import pandas as pd\n",
        "import numpy as np\n",
        "import yfinance as yf\n",
        "import matplotlib.pyplot as plt"
      ]
    },
    {
      "cell_type": "code",
      "source": [
        "pd.set_option('display.max_rows', 100)"
      ],
      "metadata": {
        "id": "boAKvg8L3ETH"
      },
      "execution_count": 3,
      "outputs": []
    },
    {
      "cell_type": "code",
      "source": [
        "# def pct_rank(series):\n",
        "#   copied = series.copy()\n",
        "#   copied.rename(copied.name + '_pct_rank', inplace=True)\n",
        "#   return copied.rank(pct=True)\n",
        "\n",
        "# def ror(series, periods=1):\n",
        "#   copied = series.copy()\n",
        "#   copied.rename(copied.name + '_ror', inplace=True)\n",
        "#   return copied.pct_change(periods=periods)\n",
        "\n",
        "def pct_rank(series):\n",
        "  copied = series.copy()\n",
        "  copied.rename(copied.name + '_pct_rank', inplace=True)\n",
        "  return copied.rank(pct=True)\n",
        "\n",
        "def ror(series, periods=1):\n",
        "  copied = series.copy()\n",
        "  copied.rename(f\"{copied.name}_ror{periods}d\", inplace=True)\n",
        "  if periods >= 0:\n",
        "    return copied.pct_change(periods=periods)\n",
        "  else:\n",
        "    return 1 / (copied.pct_change(periods=periods) + 1) - 1\n",
        "\n",
        "def trigger_lt(df, column, threshold):\n",
        "  return df[df[column] < threshold]\n",
        "\n",
        "class Ticker:\n",
        "  def __init__(self, ticker, period='max', interval='1d'):\n",
        "    self.ticker = ticker\n",
        "    self.period = period\n",
        "    self.interval = interval\n",
        "    self.df = self.__historical_price()\n",
        "\n",
        "  def __historical_price(self):\n",
        "    df = yf.download(self.ticker, period=self.period, interval=self.interval)\n",
        "    df.rename(columns=str.lower, inplace=True)\n",
        "    df.to_csv(f'/content/drive/MyDrive/quant-strategies/vix_strategy/{self.ticker}.csv')\n",
        "    df.drop(columns=['high', 'low', 'adj close', 'volume'], inplace=True)\n",
        "    df['intra_ror'] = (df['close'] - df['open']) / df['open']\n",
        "    df = pd.concat([\n",
        "        df,\n",
        "        ror(df['open']),\n",
        "        ror(df['close']),\n",
        "        ror(df['close'], -5),\n",
        "    ], axis=1)\n",
        "    return pd.concat([\n",
        "        df, \n",
        "        pct_rank(df['open']),\n",
        "        pct_rank(df['close']),\n",
        "        pct_rank(df['intra_ror']),\n",
        "        pct_rank(df['open_ror1d']),\n",
        "        pct_rank(df['close_ror1d']),\n",
        "        # pct_rank(df['close_ror+5d']),\n",
        "    ], axis=1)\n",
        "\n"
      ],
      "metadata": {
        "id": "ICpnEmCj8Yjv"
      },
      "execution_count": 45,
      "outputs": []
    },
    {
      "cell_type": "code",
      "source": [
        "ticker = Ticker('^vix').df"
      ],
      "metadata": {
        "colab": {
          "base_uri": "https://localhost:8080/"
        },
        "id": "cD2uifHiLvf-",
        "outputId": "000786a4-a899-4f3f-cfdc-7720485034ac"
      },
      "execution_count": 46,
      "outputs": [
        {
          "output_type": "stream",
          "name": "stdout",
          "text": [
            "\r[*********************100%***********************]  1 of 1 completed\n"
          ]
        }
      ]
    },
    {
      "cell_type": "code",
      "source": [
        "ticker"
      ],
      "metadata": {
        "colab": {
          "base_uri": "https://localhost:8080/",
          "height": 455
        },
        "id": "c_N9yGtMEt_U",
        "outputId": "b944acb4-71c4-4e06-bd87-2e69beee1d60"
      },
      "execution_count": 47,
      "outputs": [
        {
          "output_type": "execute_result",
          "data": {
            "text/plain": [
              "                 open      close  intra_ror  open_ror1d  close_ror1d  \\\n",
              "Date                                                                   \n",
              "1990-01-02  17.240000  17.240000   0.000000         NaN          NaN   \n",
              "1990-01-03  18.190001  18.190001   0.000000    0.055104     0.055104   \n",
              "1990-01-04  19.219999  19.219999   0.000000    0.056624     0.056624   \n",
              "1990-01-05  20.110001  20.110001   0.000000    0.046306     0.046306   \n",
              "1990-01-08  20.260000  20.260000   0.000000    0.007459     0.007459   \n",
              "...               ...        ...        ...         ...          ...   \n",
              "2023-03-27  22.049999  20.600000  -0.065760   -0.002714    -0.052438   \n",
              "2023-03-28  20.530001  19.969999  -0.027277   -0.068934    -0.030583   \n",
              "2023-03-29  19.389999  19.120001  -0.013925   -0.055529    -0.042564   \n",
              "2023-03-30  19.120001  19.020000  -0.005230   -0.013925    -0.005230   \n",
              "2023-03-31  19.209999  18.700001  -0.026549    0.004707    -0.016824   \n",
              "\n",
              "            close_ror-5d  open_pct_rank  close_pct_rank  intra_ror_pct_rank  \\\n",
              "Date                                                                          \n",
              "1990-01-02      0.287703       0.461860        0.464188            0.570670   \n",
              "1990-01-03      0.233645       0.513370        0.515399            0.570670   \n",
              "1990-01-04      0.043184       0.560523        0.566551            0.570670   \n",
              "1990-01-05      0.225261       0.606184        0.613824            0.570670   \n",
              "1990-01-08      0.300099       0.614838        0.620210            0.570670   \n",
              "...                  ...            ...             ...                 ...   \n",
              "2023-03-27           NaN       0.697863        0.635788            0.087621   \n",
              "2023-03-28           NaN       0.628626        0.605229            0.305002   \n",
              "2023-03-29           NaN       0.570073        0.561836            0.420198   \n",
              "2023-03-30           NaN       0.556404        0.556763            0.496240   \n",
              "2023-03-31           NaN       0.559807        0.542378            0.311567   \n",
              "\n",
              "            open_ror1d_pct_rank  close_ror1d_pct_rank  \n",
              "Date                                                   \n",
              "1990-01-02                  NaN                   NaN  \n",
              "1990-01-03             0.826409              0.839422  \n",
              "1990-01-04             0.831065              0.843840  \n",
              "1990-01-05             0.792144              0.806351  \n",
              "1990-01-08             0.583214              0.590735  \n",
              "...                         ...                   ...  \n",
              "2023-03-27             0.501433              0.166309  \n",
              "2023-03-28             0.118553              0.294293  \n",
              "2023-03-29             0.174427              0.218243  \n",
              "2023-03-30             0.424188              0.490091  \n",
              "2023-03-31             0.562798              0.396251  \n",
              "\n",
              "[8377 rows x 11 columns]"
            ],
            "text/html": [
              "\n",
              "  <div id=\"df-d5ea911e-ec10-4cfa-91d1-4b768b3fc23c\">\n",
              "    <div class=\"colab-df-container\">\n",
              "      <div>\n",
              "<style scoped>\n",
              "    .dataframe tbody tr th:only-of-type {\n",
              "        vertical-align: middle;\n",
              "    }\n",
              "\n",
              "    .dataframe tbody tr th {\n",
              "        vertical-align: top;\n",
              "    }\n",
              "\n",
              "    .dataframe thead th {\n",
              "        text-align: right;\n",
              "    }\n",
              "</style>\n",
              "<table border=\"1\" class=\"dataframe\">\n",
              "  <thead>\n",
              "    <tr style=\"text-align: right;\">\n",
              "      <th></th>\n",
              "      <th>open</th>\n",
              "      <th>close</th>\n",
              "      <th>intra_ror</th>\n",
              "      <th>open_ror1d</th>\n",
              "      <th>close_ror1d</th>\n",
              "      <th>close_ror-5d</th>\n",
              "      <th>open_pct_rank</th>\n",
              "      <th>close_pct_rank</th>\n",
              "      <th>intra_ror_pct_rank</th>\n",
              "      <th>open_ror1d_pct_rank</th>\n",
              "      <th>close_ror1d_pct_rank</th>\n",
              "    </tr>\n",
              "    <tr>\n",
              "      <th>Date</th>\n",
              "      <th></th>\n",
              "      <th></th>\n",
              "      <th></th>\n",
              "      <th></th>\n",
              "      <th></th>\n",
              "      <th></th>\n",
              "      <th></th>\n",
              "      <th></th>\n",
              "      <th></th>\n",
              "      <th></th>\n",
              "      <th></th>\n",
              "    </tr>\n",
              "  </thead>\n",
              "  <tbody>\n",
              "    <tr>\n",
              "      <th>1990-01-02</th>\n",
              "      <td>17.240000</td>\n",
              "      <td>17.240000</td>\n",
              "      <td>0.000000</td>\n",
              "      <td>NaN</td>\n",
              "      <td>NaN</td>\n",
              "      <td>0.287703</td>\n",
              "      <td>0.461860</td>\n",
              "      <td>0.464188</td>\n",
              "      <td>0.570670</td>\n",
              "      <td>NaN</td>\n",
              "      <td>NaN</td>\n",
              "    </tr>\n",
              "    <tr>\n",
              "      <th>1990-01-03</th>\n",
              "      <td>18.190001</td>\n",
              "      <td>18.190001</td>\n",
              "      <td>0.000000</td>\n",
              "      <td>0.055104</td>\n",
              "      <td>0.055104</td>\n",
              "      <td>0.233645</td>\n",
              "      <td>0.513370</td>\n",
              "      <td>0.515399</td>\n",
              "      <td>0.570670</td>\n",
              "      <td>0.826409</td>\n",
              "      <td>0.839422</td>\n",
              "    </tr>\n",
              "    <tr>\n",
              "      <th>1990-01-04</th>\n",
              "      <td>19.219999</td>\n",
              "      <td>19.219999</td>\n",
              "      <td>0.000000</td>\n",
              "      <td>0.056624</td>\n",
              "      <td>0.056624</td>\n",
              "      <td>0.043184</td>\n",
              "      <td>0.560523</td>\n",
              "      <td>0.566551</td>\n",
              "      <td>0.570670</td>\n",
              "      <td>0.831065</td>\n",
              "      <td>0.843840</td>\n",
              "    </tr>\n",
              "    <tr>\n",
              "      <th>1990-01-05</th>\n",
              "      <td>20.110001</td>\n",
              "      <td>20.110001</td>\n",
              "      <td>0.000000</td>\n",
              "      <td>0.046306</td>\n",
              "      <td>0.046306</td>\n",
              "      <td>0.225261</td>\n",
              "      <td>0.606184</td>\n",
              "      <td>0.613824</td>\n",
              "      <td>0.570670</td>\n",
              "      <td>0.792144</td>\n",
              "      <td>0.806351</td>\n",
              "    </tr>\n",
              "    <tr>\n",
              "      <th>1990-01-08</th>\n",
              "      <td>20.260000</td>\n",
              "      <td>20.260000</td>\n",
              "      <td>0.000000</td>\n",
              "      <td>0.007459</td>\n",
              "      <td>0.007459</td>\n",
              "      <td>0.300099</td>\n",
              "      <td>0.614838</td>\n",
              "      <td>0.620210</td>\n",
              "      <td>0.570670</td>\n",
              "      <td>0.583214</td>\n",
              "      <td>0.590735</td>\n",
              "    </tr>\n",
              "    <tr>\n",
              "      <th>...</th>\n",
              "      <td>...</td>\n",
              "      <td>...</td>\n",
              "      <td>...</td>\n",
              "      <td>...</td>\n",
              "      <td>...</td>\n",
              "      <td>...</td>\n",
              "      <td>...</td>\n",
              "      <td>...</td>\n",
              "      <td>...</td>\n",
              "      <td>...</td>\n",
              "      <td>...</td>\n",
              "    </tr>\n",
              "    <tr>\n",
              "      <th>2023-03-27</th>\n",
              "      <td>22.049999</td>\n",
              "      <td>20.600000</td>\n",
              "      <td>-0.065760</td>\n",
              "      <td>-0.002714</td>\n",
              "      <td>-0.052438</td>\n",
              "      <td>NaN</td>\n",
              "      <td>0.697863</td>\n",
              "      <td>0.635788</td>\n",
              "      <td>0.087621</td>\n",
              "      <td>0.501433</td>\n",
              "      <td>0.166309</td>\n",
              "    </tr>\n",
              "    <tr>\n",
              "      <th>2023-03-28</th>\n",
              "      <td>20.530001</td>\n",
              "      <td>19.969999</td>\n",
              "      <td>-0.027277</td>\n",
              "      <td>-0.068934</td>\n",
              "      <td>-0.030583</td>\n",
              "      <td>NaN</td>\n",
              "      <td>0.628626</td>\n",
              "      <td>0.605229</td>\n",
              "      <td>0.305002</td>\n",
              "      <td>0.118553</td>\n",
              "      <td>0.294293</td>\n",
              "    </tr>\n",
              "    <tr>\n",
              "      <th>2023-03-29</th>\n",
              "      <td>19.389999</td>\n",
              "      <td>19.120001</td>\n",
              "      <td>-0.013925</td>\n",
              "      <td>-0.055529</td>\n",
              "      <td>-0.042564</td>\n",
              "      <td>NaN</td>\n",
              "      <td>0.570073</td>\n",
              "      <td>0.561836</td>\n",
              "      <td>0.420198</td>\n",
              "      <td>0.174427</td>\n",
              "      <td>0.218243</td>\n",
              "    </tr>\n",
              "    <tr>\n",
              "      <th>2023-03-30</th>\n",
              "      <td>19.120001</td>\n",
              "      <td>19.020000</td>\n",
              "      <td>-0.005230</td>\n",
              "      <td>-0.013925</td>\n",
              "      <td>-0.005230</td>\n",
              "      <td>NaN</td>\n",
              "      <td>0.556404</td>\n",
              "      <td>0.556763</td>\n",
              "      <td>0.496240</td>\n",
              "      <td>0.424188</td>\n",
              "      <td>0.490091</td>\n",
              "    </tr>\n",
              "    <tr>\n",
              "      <th>2023-03-31</th>\n",
              "      <td>19.209999</td>\n",
              "      <td>18.700001</td>\n",
              "      <td>-0.026549</td>\n",
              "      <td>0.004707</td>\n",
              "      <td>-0.016824</td>\n",
              "      <td>NaN</td>\n",
              "      <td>0.559807</td>\n",
              "      <td>0.542378</td>\n",
              "      <td>0.311567</td>\n",
              "      <td>0.562798</td>\n",
              "      <td>0.396251</td>\n",
              "    </tr>\n",
              "  </tbody>\n",
              "</table>\n",
              "<p>8377 rows × 11 columns</p>\n",
              "</div>\n",
              "      <button class=\"colab-df-convert\" onclick=\"convertToInteractive('df-d5ea911e-ec10-4cfa-91d1-4b768b3fc23c')\"\n",
              "              title=\"Convert this dataframe to an interactive table.\"\n",
              "              style=\"display:none;\">\n",
              "        \n",
              "  <svg xmlns=\"http://www.w3.org/2000/svg\" height=\"24px\"viewBox=\"0 0 24 24\"\n",
              "       width=\"24px\">\n",
              "    <path d=\"M0 0h24v24H0V0z\" fill=\"none\"/>\n",
              "    <path d=\"M18.56 5.44l.94 2.06.94-2.06 2.06-.94-2.06-.94-.94-2.06-.94 2.06-2.06.94zm-11 1L8.5 8.5l.94-2.06 2.06-.94-2.06-.94L8.5 2.5l-.94 2.06-2.06.94zm10 10l.94 2.06.94-2.06 2.06-.94-2.06-.94-.94-2.06-.94 2.06-2.06.94z\"/><path d=\"M17.41 7.96l-1.37-1.37c-.4-.4-.92-.59-1.43-.59-.52 0-1.04.2-1.43.59L10.3 9.45l-7.72 7.72c-.78.78-.78 2.05 0 2.83L4 21.41c.39.39.9.59 1.41.59.51 0 1.02-.2 1.41-.59l7.78-7.78 2.81-2.81c.8-.78.8-2.07 0-2.86zM5.41 20L4 18.59l7.72-7.72 1.47 1.35L5.41 20z\"/>\n",
              "  </svg>\n",
              "      </button>\n",
              "      \n",
              "  <style>\n",
              "    .colab-df-container {\n",
              "      display:flex;\n",
              "      flex-wrap:wrap;\n",
              "      gap: 12px;\n",
              "    }\n",
              "\n",
              "    .colab-df-convert {\n",
              "      background-color: #E8F0FE;\n",
              "      border: none;\n",
              "      border-radius: 50%;\n",
              "      cursor: pointer;\n",
              "      display: none;\n",
              "      fill: #1967D2;\n",
              "      height: 32px;\n",
              "      padding: 0 0 0 0;\n",
              "      width: 32px;\n",
              "    }\n",
              "\n",
              "    .colab-df-convert:hover {\n",
              "      background-color: #E2EBFA;\n",
              "      box-shadow: 0px 1px 2px rgba(60, 64, 67, 0.3), 0px 1px 3px 1px rgba(60, 64, 67, 0.15);\n",
              "      fill: #174EA6;\n",
              "    }\n",
              "\n",
              "    [theme=dark] .colab-df-convert {\n",
              "      background-color: #3B4455;\n",
              "      fill: #D2E3FC;\n",
              "    }\n",
              "\n",
              "    [theme=dark] .colab-df-convert:hover {\n",
              "      background-color: #434B5C;\n",
              "      box-shadow: 0px 1px 3px 1px rgba(0, 0, 0, 0.15);\n",
              "      filter: drop-shadow(0px 1px 2px rgba(0, 0, 0, 0.3));\n",
              "      fill: #FFFFFF;\n",
              "    }\n",
              "  </style>\n",
              "\n",
              "      <script>\n",
              "        const buttonEl =\n",
              "          document.querySelector('#df-d5ea911e-ec10-4cfa-91d1-4b768b3fc23c button.colab-df-convert');\n",
              "        buttonEl.style.display =\n",
              "          google.colab.kernel.accessAllowed ? 'block' : 'none';\n",
              "\n",
              "        async function convertToInteractive(key) {\n",
              "          const element = document.querySelector('#df-d5ea911e-ec10-4cfa-91d1-4b768b3fc23c');\n",
              "          const dataTable =\n",
              "            await google.colab.kernel.invokeFunction('convertToInteractive',\n",
              "                                                     [key], {});\n",
              "          if (!dataTable) return;\n",
              "\n",
              "          const docLinkHtml = 'Like what you see? Visit the ' +\n",
              "            '<a target=\"_blank\" href=https://colab.research.google.com/notebooks/data_table.ipynb>data table notebook</a>'\n",
              "            + ' to learn more about interactive tables.';\n",
              "          element.innerHTML = '';\n",
              "          dataTable['output_type'] = 'display_data';\n",
              "          await google.colab.output.renderOutput(dataTable, element);\n",
              "          const docLink = document.createElement('div');\n",
              "          docLink.innerHTML = docLinkHtml;\n",
              "          element.appendChild(docLink);\n",
              "        }\n",
              "      </script>\n",
              "    </div>\n",
              "  </div>\n",
              "  "
            ]
          },
          "metadata": {},
          "execution_count": 47
        }
      ]
    },
    {
      "cell_type": "code",
      "source": [
        "def strategy_result(ticker, ror_col, threshold, condition_col):\n",
        "  trades = ticker[ticker[condition_col] < threshold][ror_col]\n",
        "  result_dict = {\n",
        "    'total_trades': len(trades),    \n",
        "    'win_rates': round(len(trades[trades > 0]) / len(trades), 4),\n",
        "    'average_ror': round(trades.mean(), 4),\n",
        "    'average_ror_win': round(trades[trades > 0].mean(), 4),\n",
        "    'average_ror_lose': round(trades[trades < 0].mean(), 4),\n",
        "    'max_ror': max(trades),\n",
        "    'min_ror': min(trades),\n",
        "    'total_ror': round((1 + trades).product(), 4)\n",
        "  }\n",
        "  trades.to_csv(f'/content/drive/MyDrive/quant-strategies/vix_strategy/{ror_col}.csv')\n",
        "  for key, value in result_dict.items():\n",
        "    print(f'{key} : {value}')\n",
        "  trades.plot(style='.')\n",
        "  plt.show()\n",
        "  trades.plot.hist(bins=int(len(trades) / 10))\n",
        "  plt.show()\n",
        "  trades.plot.density()\n",
        "  plt.show()"
      ],
      "metadata": {
        "id": "YA5TgeUbADz6"
      },
      "execution_count": 129,
      "outputs": []
    },
    {
      "cell_type": "code",
      "source": [
        "strategy_result(ticker, ror_col='close_ror-5d', threshold=0.1, condition_col='close_pct_rank')"
      ],
      "metadata": {
        "colab": {
          "base_uri": "https://localhost:8080/",
          "height": 1000
        },
        "id": "cmxnd674LMov",
        "outputId": "ac72113a-633e-4dc3-98f8-0033ae7ab356"
      },
      "execution_count": 130,
      "outputs": [
        {
          "output_type": "stream",
          "name": "stdout",
          "text": [
            "total_trades : 837\n",
            "win_rates : 0.644\n",
            "average_ror : 0.05\n",
            "average_ror_win : 0.1028\n",
            "average_ror_lose : -0.0461\n",
            "max_ror : 0.9776054921128012\n",
            "min_ror : -0.20034247358289559\n",
            "total_ror : 4510230346263892.0\n"
          ]
        },
        {
          "output_type": "display_data",
          "data": {
            "text/plain": [
              "<Figure size 640x480 with 1 Axes>"
            ],
            "image/png": "[encoded data removed]"
          },
          "metadata": {}
        },
        {
          "output_type": "display_data",
          "data": {
            "text/plain": [
              "<Figure size 640x480 with 1 Axes>"
            ],
            "image/png": "[encoded data removed]"
          },
          "metadata": {}
        },
        {
          "output_type": "display_data",
          "data": {
            "text/plain": [
              "<Figure size 640x480 with 1 Axes>"
            ],
            "image/png": "[encoded data removed]"
          },
          "metadata": {}
        }
      ]
    },
    {
      "cell_type": "code",
      "source": [],
      "metadata": {
        "id": "ylVEo-NILdag"
      },
      "execution_count": null,
      "outputs": []
    }
  ]
}